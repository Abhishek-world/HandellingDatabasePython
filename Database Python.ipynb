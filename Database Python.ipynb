{
 "cells": [
  {
   "cell_type": "code",
   "execution_count": 1,
   "metadata": {},
   "outputs": [],
   "source": [
    "import sqlite3"
   ]
  },
  {
   "cell_type": "code",
   "execution_count": 2,
   "metadata": {},
   "outputs": [],
   "source": [
    "connection=sqlite3.connect(\"mytable.db\")"
   ]
  },
  {
   "cell_type": "code",
   "execution_count": 3,
   "metadata": {},
   "outputs": [],
   "source": [
    "crsr=connection.cursor()"
   ]
  },
  {
   "cell_type": "code",
   "execution_count": 4,
   "metadata": {},
   "outputs": [],
   "source": [
    "sql_command = \"\"\"CREATE TABLE emp (  \n",
    "staff_number INTEGER PRIMARY KEY,  \n",
    "fname VARCHAR(20),  \n",
    "lname VARCHAR(30),  \n",
    "gender CHAR(1),  \n",
    "joining DATE);\"\"\""
   ]
  },
  {
   "cell_type": "code",
   "execution_count": 5,
   "metadata": {},
   "outputs": [
    {
     "data": {
      "text/plain": [
       "<sqlite3.Cursor at 0x15b71d170a0>"
      ]
     },
     "execution_count": 5,
     "metadata": {},
     "output_type": "execute_result"
    }
   ],
   "source": [
    "crsr.execute(sql_command)"
   ]
  },
  {
   "cell_type": "code",
   "execution_count": 6,
   "metadata": {},
   "outputs": [
    {
     "data": {
      "text/plain": [
       "<sqlite3.Cursor at 0x15b71d170a0>"
      ]
     },
     "execution_count": 6,
     "metadata": {},
     "output_type": "execute_result"
    }
   ],
   "source": [
    "sql_command = \"\"\"INSERT INTO emp VALUES (23, \"Rishabh\", \"Bansal\", \"M\", \"2014-03-28\");\"\"\"\n",
    "crsr.execute(sql_command) "
   ]
  },
  {
   "cell_type": "code",
   "execution_count": 7,
   "metadata": {},
   "outputs": [
    {
     "data": {
      "text/plain": [
       "<sqlite3.Cursor at 0x15b71d170a0>"
      ]
     },
     "execution_count": 7,
     "metadata": {},
     "output_type": "execute_result"
    }
   ],
   "source": [
    "sql_command = \"\"\"INSERT INTO emp VALUES (1, \"Bill\", \"Gates\", \"M\", \"1980-10-28\");\"\"\"\n",
    "crsr.execute(sql_command) "
   ]
  },
  {
   "cell_type": "code",
   "execution_count": 8,
   "metadata": {},
   "outputs": [],
   "source": [
    "connection.commit()"
   ]
  },
  {
   "cell_type": "code",
   "execution_count": 10,
   "metadata": {},
   "outputs": [
    {
     "name": "stdout",
     "output_type": "stream",
     "text": [
      "<sqlite3.Cursor object at 0x0000015B71D170A0>\n"
     ]
    }
   ],
   "source": [
    "sql_command=\"select * from emp\"\n",
    "crsr.execute(sql_command))"
   ]
  },
  {
   "cell_type": "code",
   "execution_count": 11,
   "metadata": {},
   "outputs": [],
   "source": [
    "ans=crsr.fetchall()"
   ]
  },
  {
   "cell_type": "code",
   "execution_count": 12,
   "metadata": {},
   "outputs": [
    {
     "name": "stdout",
     "output_type": "stream",
     "text": [
      "(1, 'Bill', 'Gates', 'M', '1980-10-28')\n",
      "(23, 'Rishabh', 'Bansal', 'M', '2014-03-28')\n"
     ]
    }
   ],
   "source": [
    "for i in ans:\n",
    "    print(i)"
   ]
  },
  {
   "cell_type": "code",
   "execution_count": 20,
   "metadata": {},
   "outputs": [],
   "source": [
    "import matplotlib.pyplot as plt\n",
    "def graph(name,age):\n",
    "    plt.plot(name,age,color='yellow',linestyle='dashed',linewidth=3,marker='*',markerfacecolor='blue',markersize=12)\n",
    "    plt.xlabel('Name')\n",
    "    plt.ylabel('age')\n",
    "    plt.show()"
   ]
  },
  {
   "cell_type": "code",
   "execution_count": 22,
   "metadata": {},
   "outputs": [
    {
     "name": "stdout",
     "output_type": "stream",
     "text": [
      "mana\n",
      "ass\n",
      "sd\n",
      "df\n",
      "fg\n",
      "2\n",
      "45\n",
      "12\n",
      "23\n",
      "34\n"
     ]
    },
    {
     "data": {
      "image/png": "[encoded data removed]",
      "text/plain": [
       "<Figure size 432x288 with 1 Axes>"
      ]
     },
     "metadata": {
      "needs_background": "light"
     },
     "output_type": "display_data"
    }
   ],
   "source": [
    "#data input by the User\n",
    "name=[input() for i in range(5)]\n",
    "age=[int(input()) for i in range(5)]\n",
    "#crsr.execute(\"create table person2(name,age)\")\n",
    "#for i in range(5):\n",
    "graph(name,age)\n",
    "    #crsr.execute(\"insert into person2 values(?,?)\",(name[i],age[i]))\n",
    "#crsr.execute(\"select * from person2\")\n",
    "#print(crsr.fetchall())"
   ]
  },
  {
   "cell_type": "markdown",
   "metadata": {},
   "source": []
  },
  {
   "cell_type": "code",
   "execution_count": 23,
   "metadata": {},
   "outputs": [],
   "source": [
    "#Handling large data in sql\n",
    "#executescript()\n",
    "#This is a convenience method for executing multiple SQL statements at once. It executes the SQL script it gets as a parameter.\n",
    "#syntax:-sqllite3.connect.executescript(script)\n"
   ]
  },
  {
   "cell_type": "code",
   "execution_count": 24,
   "metadata": {},
   "outputs": [
    {
     "name": "stdout",
     "output_type": "stream",
     "text": [
      "('A', 'B', 2008)\n",
      "('C', 'D', 2008)\n",
      "('E', 'F', 2010)\n"
     ]
    }
   ],
   "source": [
    "#executemany()\n",
    "#It is often the case when, large amount of data has to be inserted into database from Data Files(for simpler case take Lists,\n",
    "#arrays). It would be simple to iterate the code many a times than write every time, each line into database.\n",
    "#But the use of loop would not be suitable in this case, the below example shows why.\n",
    "#Syntax and use of executemany() is explained below and how it can be used like a loop.\n",
    "import sqlite3 \n",
    "\n",
    "# Connection with the DataBase \n",
    "# 'library.db' \n",
    "connection = sqlite3.connect(\"library.db\") \n",
    "cursor = connection.cursor() \n",
    "\n",
    "# SQL piece of code Executed \n",
    "cursor.execute(\"\"\" \n",
    "    \n",
    "    CREATE TABLE book( \n",
    "        title, \n",
    "        author, \n",
    "        published);\"\"\") \n",
    "\n",
    "List = [('A', 'B', 2008), ('C', 'D', 2008), \n",
    "                        ('E', 'F', 2010)] \n",
    "\n",
    "connection. executemany(\"\"\" \n",
    "\n",
    "\tINSERT INTO \n",
    "\tbook(title, author, published) \n",
    "\tVALUES (?, ?, ?)\"\"\", List) \n",
    "\n",
    "sql = \"\"\" \n",
    "    SELECT * FROM book;\"\"\"\n",
    "cursor.execute(sql) \n",
    "result = cursor.fetchall() \n",
    "for x in result: \n",
    "    print(x) \n",
    "\n",
    "# Changes saved into database \n",
    "connection.commit() \n",
    "\n",
    "# Connection closed(broken) \n",
    "# with DataBase \n",
    "connection.close() \n"
   ]
  },
  {
   "cell_type": "code",
   "execution_count": 25,
   "metadata": {},
   "outputs": [
    {
     "name": "stdout",
     "output_type": "stream",
     "text": [
      "Method-1\n",
      "\n",
      "(1007, 'Will', 'Olsen', 'M', '24-SEP-1865')\n",
      "(1008, 'Rkb', 'Boss', 'M', '27-NOV-1864')\n",
      "(1098, 'Sak', 'Rose', 'F', '27-DEC-1864')\n",
      "(1908, 'Royal', 'Bassen', 'F', '17-NOV-1894')\n",
      "\n",
      "Method-2\n",
      "\n",
      "(1007, 'Will', 'Olsen', 'M', '24-SEP-1865')\n",
      "(1008, 'Rkb', 'Boss', 'M', '27-NOV-1864')\n",
      "(1098, 'Sak', 'Rose', 'F', '27-DEC-1864')\n",
      "(1908, 'Royal', 'Bassen', 'F', '17-NOV-1894')\n"
     ]
    }
   ],
   "source": [
    "#fetch latge date\n",
    "import sqlite3 \n",
    "\n",
    "# Connection created with the \n",
    "# database using sqlite3.connect() \n",
    "connection = sqlite3.connect(\"company.db\") \n",
    "cursor = connection.cursor() \n",
    "\n",
    "# Create Table command executed \n",
    "sql = \"\"\" \n",
    "        CREATE TABLE employee ( \n",
    "        ID INTEGER PRIMARY KEY, \n",
    "        fname VARCHAR(20), \n",
    "        lname VARCHAR(30), \n",
    "        gender CHAR(1), \n",
    "        dob DATE);\"\"\"\n",
    "cursor.execute(sql) \n",
    "\n",
    "# Single Tuple inserted \n",
    "sql = \"\"\" \n",
    "        INSERT INTO employee \n",
    "        VALUES (1007, \"Will\", \"Olsen\", \"M\", \"24-SEP-1865\");\"\"\"\n",
    "cursor.execute(sql) \n",
    "\n",
    "# Multiple Rows inserted \n",
    "List = [(1008, 'Rkb', 'Boss', 'M', \"27-NOV-1864\"), \n",
    "        (1098, 'Sak', 'Rose', 'F', \"27-DEC-1864\"), \n",
    "        (1908, 'Royal', 'Bassen', \"F\", \"17-NOV-1894\")] \n",
    "\n",
    "connection. executemany( \n",
    "        \"INSERT INTO employee VALUES (?, ?, ?, ?, ?)\", List) \n",
    "\n",
    "print(\"Method-1\\n\") \n",
    "\n",
    "# Multiple Rows fetched from \n",
    "# the Database \n",
    "for row in connection.execute('SELECT * FROM employee ORDER BY ID'): \n",
    "        print (row) \n",
    "\n",
    "print(\"\\nMethod-2\\n\") \n",
    "\n",
    "# Method-2 to fetch multiple \n",
    "# rows \n",
    "sql = \"\"\" \n",
    "        SELECT * FROM employee ORDER BY ID;\"\"\"\n",
    "\n",
    "cursor.execute(sql) \n",
    "result = cursor.fetchall() \n",
    "\n",
    "for x in result: \n",
    "    print(x) \n",
    "\n",
    "connection.commit() \n",
    "connection.close() \n"
   ]
  },
  {
   "cell_type": "code",
   "execution_count": null,
   "metadata": {},
   "outputs": [],
   "source": []
  }
 ],
 "metadata": {
  "kernelspec": {
   "display_name": "Python 3",
   "language": "python",
   "name": "python3"
  },
  "language_info": {
   "codemirror_mode": {
    "name": "ipython",
    "version": 3
   },
   "file_extension": ".py",
   "mimetype": "text/x-python",
   "name": "python",
   "nbconvert_exporter": "python",
   "pygments_lexer": "ipython3",
   "version": "3.7.3"
  }
 },
 "nbformat": 4,
 "nbformat_minor": 2
}
